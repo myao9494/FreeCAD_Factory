{
 "cells": [
  {
   "cell_type": "code",
   "execution_count": 2,
   "id": "62de51a5",
   "metadata": {},
   "outputs": [],
   "source": [
    "%gui qt5\n",
    "import sys, os\n",
    "os.environ[\"QT_API\"] = \"pyside2\"\n",
    "prefix = os.environ['CONDA_PREFIX']\n",
    "sys.path.append(prefix+\"/\")\n",
    "sys.path.append(prefix+\"lib/\")\n",
    "\n",
    "sys.path.append(prefix+\"\\\\Library\\\\bin\")\n",
    "sys.path.append(prefix+\"\\\\Library\\\\data\")\n",
    "import FreeCAD\n",
    "import FreeCADGui\n",
    "\n",
    "FreeCADGui.showMainWindow()"
   ]
  },
  {
   "cell_type": "code",
   "execution_count": 4,
   "id": "ef4bbd3e",
   "metadata": {},
   "outputs": [],
   "source": [
    "import Part\n",
    "import FreeCAD as App\n",
    "import FreeCADGui as Gui\n"
   ]
  },
  {
   "cell_type": "code",
   "execution_count": 10,
   "id": "c6767347",
   "metadata": {},
   "outputs": [],
   "source": [
    "def select_Solid_only():\n",
    "    for obj in App.ActiveDocument.Objects:\n",
    "        if hasattr(obj,\"Shape\") and obj.Shape.Volume>0:\n",
    "            Gui.Selection.addSelection(obj)"
   ]
  },
  {
   "cell_type": "code",
   "execution_count": 13,
   "id": "11b3264c",
   "metadata": {},
   "outputs": [],
   "source": [
    "def hihyoji():\n",
    "    sel = FreeCADGui.Selection.getSelection()\n",
    "    if(len(sel) != 0):\n",
    "        sel[0].ViewObject.hide()"
   ]
  },
  {
   "cell_type": "code",
   "execution_count": 14,
   "id": "04b5a235",
   "metadata": {},
   "outputs": [],
   "source": [
    "def hyoji():\n",
    "    sel = FreeCADGui.Selection.getSelection()\n",
    "    if(len(sel) != 0):\n",
    "        sel[0].ViewObject.show()"
   ]
  },
  {
   "cell_type": "code",
   "execution_count": 16,
   "id": "fbcf3bf5",
   "metadata": {},
   "outputs": [],
   "source": [
    "hihyoji()"
   ]
  },
  {
   "cell_type": "code",
   "execution_count": 17,
   "id": "f6bfbf1e",
   "metadata": {},
   "outputs": [],
   "source": [
    "hyoji()"
   ]
  },
  {
   "cell_type": "code",
   "execution_count": 21,
   "id": "db0f3977",
   "metadata": {},
   "outputs": [
    {
     "ename": "ModuleNotFoundError",
     "evalue": "No module named 'SplitFeatures'",
     "output_type": "error",
     "traceback": [
      "\u001b[1;31m---------------------------------------------------------------------------\u001b[0m",
      "\u001b[1;31mModuleNotFoundError\u001b[0m                       Traceback (most recent call last)",
      "\u001b[1;32m~\\AppData\\Local\\Temp/ipykernel_7324/1196034735.py\u001b[0m in \u001b[0;36m<module>\u001b[1;34m\u001b[0m\n\u001b[0;32m      1\u001b[0m \u001b[1;32mimport\u001b[0m \u001b[0mFreeCAD\u001b[0m\u001b[1;33m\u001b[0m\u001b[1;33m\u001b[0m\u001b[0m\n\u001b[0;32m      2\u001b[0m \u001b[1;32mimport\u001b[0m \u001b[0mPart\u001b[0m\u001b[1;33m\u001b[0m\u001b[1;33m\u001b[0m\u001b[0m\n\u001b[1;32m----> 3\u001b[1;33m \u001b[1;32mimport\u001b[0m \u001b[0mSplitFeatures\u001b[0m\u001b[1;33m\u001b[0m\u001b[1;33m\u001b[0m\u001b[0m\n\u001b[0m",
      "\u001b[1;31mModuleNotFoundError\u001b[0m: No module named 'SplitFeatures'"
     ]
    }
   ],
   "source": [
    "import FreeCAD\n",
    "import Part\n",
    "import SplitFeatures"
   ]
  },
  {
   "cell_type": "code",
   "execution_count": 22,
   "id": "be9a0379",
   "metadata": {},
   "outputs": [
    {
     "ename": "NameError",
     "evalue": "name 'BOPTools' is not defined",
     "output_type": "error",
     "traceback": [
      "\u001b[1;31m---------------------------------------------------------------------------\u001b[0m",
      "\u001b[1;31mNameError\u001b[0m                                 Traceback (most recent call last)",
      "\u001b[1;32m~\\AppData\\Local\\Temp/ipykernel_7324/868093441.py\u001b[0m in \u001b[0;36m<module>\u001b[1;34m\u001b[0m\n\u001b[0;32m      8\u001b[0m \u001b[1;31m# Gui.Selection.addSelection('Unnamed','Surface')\u001b[0m\u001b[1;33m\u001b[0m\u001b[1;33m\u001b[0m\u001b[1;33m\u001b[0m\u001b[0m\n\u001b[0;32m      9\u001b[0m \u001b[1;31m### Begin command Part_CompSplitFeatures\u001b[0m\u001b[1;33m\u001b[0m\u001b[1;33m\u001b[0m\u001b[1;33m\u001b[0m\u001b[0m\n\u001b[1;32m---> 10\u001b[1;33m \u001b[0mf\u001b[0m \u001b[1;33m=\u001b[0m \u001b[0mBOPTools\u001b[0m\u001b[1;33m.\u001b[0m\u001b[0mSplitFeatures\u001b[0m\u001b[1;33m.\u001b[0m\u001b[0mmakeSlice\u001b[0m\u001b[1;33m(\u001b[0m\u001b[0mname\u001b[0m\u001b[1;33m=\u001b[0m\u001b[1;34m'Slice'\u001b[0m\u001b[1;33m)\u001b[0m\u001b[1;33m\u001b[0m\u001b[1;33m\u001b[0m\u001b[0m\n\u001b[0m\u001b[0;32m     11\u001b[0m \u001b[0mf\u001b[0m\u001b[1;33m.\u001b[0m\u001b[0mBase\u001b[0m \u001b[1;33m=\u001b[0m \u001b[1;33m[\u001b[0m\u001b[0mApp\u001b[0m\u001b[1;33m.\u001b[0m\u001b[0mActiveDocument\u001b[0m\u001b[1;33m.\u001b[0m\u001b[0mCylinder\u001b[0m\u001b[1;33m,\u001b[0m \u001b[0mApp\u001b[0m\u001b[1;33m.\u001b[0m\u001b[0mActiveDocument\u001b[0m\u001b[1;33m.\u001b[0m\u001b[0mSurface\u001b[0m\u001b[1;33m]\u001b[0m\u001b[1;33m[\u001b[0m\u001b[1;36m0\u001b[0m\u001b[1;33m]\u001b[0m\u001b[1;33m\u001b[0m\u001b[1;33m\u001b[0m\u001b[0m\n\u001b[0;32m     12\u001b[0m \u001b[0mf\u001b[0m\u001b[1;33m.\u001b[0m\u001b[0mTools\u001b[0m \u001b[1;33m=\u001b[0m \u001b[1;33m[\u001b[0m\u001b[0mApp\u001b[0m\u001b[1;33m.\u001b[0m\u001b[0mActiveDocument\u001b[0m\u001b[1;33m.\u001b[0m\u001b[0mCylinder\u001b[0m\u001b[1;33m,\u001b[0m \u001b[0mApp\u001b[0m\u001b[1;33m.\u001b[0m\u001b[0mActiveDocument\u001b[0m\u001b[1;33m.\u001b[0m\u001b[0mSurface\u001b[0m\u001b[1;33m]\u001b[0m\u001b[1;33m[\u001b[0m\u001b[1;36m1\u001b[0m\u001b[1;33m:\u001b[0m\u001b[1;33m]\u001b[0m\u001b[1;33m\u001b[0m\u001b[1;33m\u001b[0m\u001b[0m\n",
      "\u001b[1;31mNameError\u001b[0m: name 'BOPTools' is not defined"
     ]
    }
   ],
   "source": [
    "# -*- coding: utf-8 -*-\n",
    "\n",
    "# Macro Begin: C:\\Users\\M151325\\AppData\\Roaming\\FreeCAD\\Macro\\aaa.FCMacro +++++++++++++++++++++++++++++++++++++++++++++++++\n",
    "\n",
    "\n",
    "# Gui.runCommand('Std_DlgMacroRecord',0)\n",
    "# Gui.Selection.addSelection('Unnamed','Cylinder')\n",
    "# Gui.Selection.addSelection('Unnamed','Surface')\n",
    "### Begin command Part_CompSplitFeatures\n",
    "f = BOPTools.SplitFeatures.makeSlice(name='Slice')\n",
    "f.Base = [App.ActiveDocument.Cylinder, App.ActiveDocument.Surface][0]\n",
    "f.Tools = [App.ActiveDocument.Cylinder, App.ActiveDocument.Surface][1:]\n",
    "f.Mode = 'Split'\n",
    "f.Proxy.execute(f)\n",
    "f.purgeTouched()\n",
    "for obj in f.ViewObject.Proxy.claimChildren():\n",
    "    obj.ViewObject.hide()\n",
    "CompoundTools.Explode.explodeCompound(f)\n",
    "f.ViewObject.hide()\n",
    "App.ActiveDocument.recompute()\n",
    "### End command Part_CompSplitFeatures\n",
    "# Macro End: C:\\Users\\M151325\\AppData\\Roaming\\FreeCAD\\Macro\\aaa.FCMacro +++++++++++++++++++++++++++++++++++++++++++++++++\n"
   ]
  },
  {
   "cell_type": "code",
   "execution_count": null,
   "id": "33ed2f97",
   "metadata": {},
   "outputs": [],
   "source": []
  }
 ],
 "metadata": {
  "kernelspec": {
   "display_name": "Python 3 (ipykernel)",
   "language": "python",
   "name": "python3"
  },
  "language_info": {
   "codemirror_mode": {
    "name": "ipython",
    "version": 3
   },
   "file_extension": ".py",
   "mimetype": "text/x-python",
   "name": "python",
   "nbconvert_exporter": "python",
   "pygments_lexer": "ipython3",
   "version": "3.9.5"
  },
  "toc": {
   "base_numbering": 1,
   "nav_menu": {},
   "number_sections": true,
   "sideBar": true,
   "skip_h1_title": false,
   "title_cell": "Table of Contents",
   "title_sidebar": "Contents",
   "toc_cell": false,
   "toc_position": {},
   "toc_section_display": true,
   "toc_window_display": false
  }
 },
 "nbformat": 4,
 "nbformat_minor": 5
}
