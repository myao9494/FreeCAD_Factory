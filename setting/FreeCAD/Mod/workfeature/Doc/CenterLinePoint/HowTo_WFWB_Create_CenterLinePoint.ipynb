{
 "cells": [
  {
   "cell_type": "markdown",
   "metadata": {},
   "source": [
    "#### <center>WorkFeature-WB :<br></center>\n",
    "#### <center>Work Feature workbench with parametric objects For FreeCAD  <br>\n",
    "<img src=\"./Images/Title02.png?1\"></center>\n",
    "\n",
    "# <center>How to create \"Center Line Point(s)\"</center>\n",
    "\n",
    "\n",
    "Updated in August 2019\n",
    " \n",
    " \n",
    "github : https://github.com/Rentlau/WorkFeature-WB"
   ]
  },
  {
   "cell_type": "markdown",
   "metadata": {},
   "source": [
    "# Objective"
   ]
  },
  {
   "cell_type": "markdown",
   "metadata": {},
   "source": [
    "See the usage of the <b>\"CenterLinePoint\"</b> Button : <img src=\"./Images/WF_centerLinePoint.svg?1\">\n",
    "\n",
    "<img src=\"./Images/Tooltip.png?2\">"
   ]
  },
  {
   "cell_type": "markdown",
   "metadata": {},
   "source": [
    "# Summary"
   ]
  },
  {
   "cell_type": "markdown",
   "metadata": {},
   "source": [
    "| Object(s) Selected                          | Object(s) created  |\n",
    "|:------|:------|\n",
    "| **1 Edge**  <img src=\"./Images/CenterLinePoint_001.png\" alt=\"Drawing\" style=\"width: 300px;\"/>| **1 Point** in the middle <img src=\"./Images/CenterLinePoint_002.png\" alt=\"Drawing\" style=\"width: 300px;\"/> |\n",
    "| **1 Edge**  <img src=\"./Images/CenterLinePoint_001.png\" alt=\"Drawing\" style=\"width: 300px;\"/>| **3 Points** <img src=\"./Images/CenterLinePoint_004.png\" alt=\"Drawing\" style=\"width: 300px;\"/> |"
   ]
  },
  {
   "cell_type": "markdown",
   "metadata": {},
   "source": [
    "# How to"
   ]
  },
  {
   "cell_type": "markdown",
   "metadata": {},
   "source": [
    "A - First open FeeCAD application         | B -Select the FreeCAD File | C - And Select the <b>WorkFeature</b> Workbench \n",
    ":-------------------------:|:-------------------------:|:-------------------------:\n",
    "![alt](./Images/init01.png) | ![alt](./Images/init02.png)| ![alt](./Images/init03.png)"
   ]
  },
  {
   "cell_type": "markdown",
   "metadata": {},
   "source": [
    "- Click on the **Create Point(s)** button without any object selection will end up with a **Macro CenterLinePoint** Popup window message and a Parameter window in **Tasks Tab** Panel where you can define parameters for the **\"CenterLinePoint\"** function :<br>\n",
    "<center><img src=\"./Images/CenterLinePoint_003.png?1\" alt=\"Drawing\" style=\"width: 700px;\"></center>"
   ]
  },
  {
   "cell_type": "markdown",
   "metadata": {},
   "source": [
    "- Click \"OK button\" on **Macro CenterLinePoint** Popup window message and go to **Tasks Tab** panel to define parameters.<br><br>\n",
    "- Parameters can be defined :<br>\n",
    "    - The <u>**Number of parts**</u>: n (2 by default)<br>\n",
    "        The selected line(s) can be cut in 2 parts if you want to get the middle point of the line(s).<br>\n",
    "        The number (n) indicates in how many Parts each selected parent Line/Edge(s) will be cut in.<br>\n",
    "        Limits : (Min: 2, Max: 100).<br>\n",
    "    - **<u>Point's location**</u> (either one point or several points can be created):\n",
    "        - If **Check box** checked then several points will be created at each ends of Parts. Even at extrema!\n",
    "            Ie : if Number of Parts is 3 then 5 points will be created!\n",
    "        - **Part's end number**\n",
    "            The number indicates at which part's end the unique point will be located.\n",
    "            - If the Number of parts is 2 and Point at part's end 1,\n",
    "            this means that the point will be located in the middle of the Line.\n",
    "            1/2 means middle of the segment !\n",
    "            - If the Number of parts is 2 and Point at part's end 2,\n",
    "            this means that the point will be located at the end of the Line.\n",
    "            Note this number can be negative.\n",
    "            - If the Number of parts is 2 and Point at part's end -1,\n",
    "            this means that the point will be located before the start of the Line.\n",
    "             Limits : [-1000:1000]. Negative value are allowed.\n",
    "\n",
    "         **Check box** and **Part's end number** are exclusive!  "
   ]
  },
  {
   "cell_type": "markdown",
   "metadata": {},
   "source": [
    "Once defined you can click \"OK button\" of **Tasks Tab** panel to keep these parameters in memory. \n",
    "\n",
    "Note that you need to open again this panel in order to change these parameters in memory.\n",
    "\n",
    "**To generate points:**\n",
    "- Select one or several Line/Edge(s)\n",
    " (you can also select 2 points in place of one Line/Edge) **and/or**\n",
    "- Select one Plane/Face to process all (4) Edges **and/or**\n",
    "- Select one Object to process all Edges at once\n",
    "\n",
    "\n",
    "- Then Click on the <b>\"CenterLinePoint\"</b> button."
   ]
  },
  {
   "cell_type": "markdown",
   "metadata": {},
   "source": [
    "- And new <b>Point(s)</b> are created under **Model Panel** below the **WorkFeature/WorkPoints_P** group (P means Parametric) :<br>"
   ]
  },
  {
   "cell_type": "markdown",
   "metadata": {},
   "source": [
    "A - Parameters        | B - Results | C - Objects\n",
    ":-------------------------:|:-------------------------:|:-------------------------:\n",
    "<img src=\"./Images/CenterLinePoint_005.png\" alt=\"Drawing\" style=\"width: 300px;\"/>| <img src=\"./Images/CenterLinePoint_002.png\" alt=\"Drawing\" style=\"width: 300px;\"/>| <img src=\"./Images/CenterLinePoint_011.png\" alt=\"Drawing\" style=\"width: 300px;\"/>\n",
    "<img src=\"./Images/CenterLinePoint_006.png\" alt=\"Drawing\" style=\"width: 300px;\"/>| <img src=\"./Images/CenterLinePoint_007.png\" alt=\"Drawing\" style=\"width: 300px;\"/>| <img src=\"./Images/CenterLinePoint_010.png\" alt=\"Drawing\" style=\"width: 300px;\"/>\n",
    "<img src=\"./Images/CenterLinePoint_008.png\" alt=\"Drawing\" style=\"width: 300px;\"/>| <img src=\"./Images/CenterLinePoint_009.png\" alt=\"Drawing\" style=\"width: 300px;\"/>| <img src=\"./Images/CenterLinePoint_012.png\" alt=\"Drawing\" style=\"width: 300px;\"/>"
   ]
  },
  {
   "cell_type": "markdown",
   "metadata": {},
   "source": [
    "- You can now play with **Parametric** Parameters of the new Point :<br><br>\n",
    "<center><img src=\"./Images/CenterLinePoint_013.png?1\" alt=\"Drawing\" style=\"width: 1000px;\"></center>"
   ]
  }
 ],
 "metadata": {
  "kernelspec": {
   "display_name": "Python 2",
   "language": "python",
   "name": "python2"
  },
  "language_info": {
   "codemirror_mode": {
    "name": "ipython",
    "version": 2
   },
   "file_extension": ".py",
   "mimetype": "text/x-python",
   "name": "python",
   "nbconvert_exporter": "python",
   "pygments_lexer": "ipython2",
   "version": "2.7.15"
  }
 },
 "nbformat": 4,
 "nbformat_minor": 2
}
