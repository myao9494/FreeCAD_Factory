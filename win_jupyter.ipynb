{
 "cells": [
  {
   "cell_type": "code",
   "execution_count": 1,
   "id": "d38665e6",
   "metadata": {},
   "outputs": [
    {
     "ename": "TypeError",
     "evalue": "object of type 'NoneType' has no len()",
     "output_type": "error",
     "traceback": [
      "\u001b[1;31m---------------------------------------------------------------------------\u001b[0m",
      "\u001b[1;31mOSError\u001b[0m                                   Traceback (most recent call last)",
      "    \u001b[1;31m[... skipping hidden 1 frame]\u001b[0m\n",
      "\u001b[1;32m~\\AppData\\Local\\Temp/ipykernel_9060/3518793604.py\u001b[0m in \u001b[0;36m<module>\u001b[1;34m\u001b[0m\n\u001b[0;32m      3\u001b[0m \u001b[1;31m# 5678 is the default attach port in the VS Code debug configurations\u001b[0m\u001b[1;33m\u001b[0m\u001b[1;33m\u001b[0m\u001b[0m\n\u001b[1;32m----> 4\u001b[1;33m \u001b[0mptvsd\u001b[0m\u001b[1;33m.\u001b[0m\u001b[0menable_attach\u001b[0m\u001b[1;33m(\u001b[0m\u001b[0maddress\u001b[0m\u001b[1;33m=\u001b[0m\u001b[1;33m(\u001b[0m\u001b[1;34m'localhost'\u001b[0m\u001b[1;33m,\u001b[0m \u001b[1;36m5678\u001b[0m\u001b[1;33m)\u001b[0m\u001b[1;33m,\u001b[0m \u001b[0mredirect_output\u001b[0m\u001b[1;33m=\u001b[0m\u001b[1;32mTrue\u001b[0m\u001b[1;33m)\u001b[0m\u001b[1;33m\u001b[0m\u001b[1;33m\u001b[0m\u001b[0m\n\u001b[0m\u001b[0;32m      5\u001b[0m \u001b[0mptvsd\u001b[0m\u001b[1;33m.\u001b[0m\u001b[0mwait_for_attach\u001b[0m\u001b[1;33m(\u001b[0m\u001b[1;33m)\u001b[0m\u001b[1;33m\u001b[0m\u001b[1;33m\u001b[0m\u001b[0m\n",
      "\u001b[1;32m~\\miniconda3\\envs\\fc\\lib\\site-packages\\ptvsd\\attach_server.py\u001b[0m in \u001b[0;36menable_attach\u001b[1;34m(address, redirect_output, log_dir)\u001b[0m\n\u001b[0;32m    100\u001b[0m \u001b[1;33m\u001b[0m\u001b[0m\n\u001b[1;32m--> 101\u001b[1;33m     \u001b[0mptvsd_enable_attach\u001b[0m\u001b[1;33m(\u001b[0m\u001b[0maddress\u001b[0m\u001b[1;33m)\u001b[0m\u001b[1;33m\u001b[0m\u001b[1;33m\u001b[0m\u001b[0m\n\u001b[0m\u001b[0;32m    102\u001b[0m     \u001b[1;32mreturn\u001b[0m \u001b[1;33m(\u001b[0m\u001b[0maddress\u001b[0m\u001b[1;33m[\u001b[0m\u001b[1;36m0\u001b[0m\u001b[1;33m]\u001b[0m\u001b[1;33m,\u001b[0m \u001b[0mptvsd\u001b[0m\u001b[1;33m.\u001b[0m\u001b[0moptions\u001b[0m\u001b[1;33m.\u001b[0m\u001b[0mport\u001b[0m\u001b[1;33m)\u001b[0m\u001b[1;33m\u001b[0m\u001b[1;33m\u001b[0m\u001b[0m\n",
      "\u001b[1;32m~\\miniconda3\\envs\\fc\\lib\\site-packages\\ptvsd\\_remote.py\u001b[0m in \u001b[0;36menable_attach\u001b[1;34m(address, on_attach, **kwargs)\u001b[0m\n\u001b[0;32m     75\u001b[0m         \u001b[0mptvsd\u001b[0m\u001b[1;33m.\u001b[0m\u001b[0mlog\u001b[0m\u001b[1;33m.\u001b[0m\u001b[0mdebug\u001b[0m\u001b[1;33m(\u001b[0m\u001b[1;34m'pydevd.settrace()'\u001b[0m\u001b[1;33m)\u001b[0m\u001b[1;33m\u001b[0m\u001b[1;33m\u001b[0m\u001b[0m\n\u001b[1;32m---> 76\u001b[1;33m         pydevd.settrace(host=host,\n\u001b[0m\u001b[0;32m     77\u001b[0m                         \u001b[0mport\u001b[0m\u001b[1;33m=\u001b[0m\u001b[0mport\u001b[0m\u001b[1;33m,\u001b[0m\u001b[1;33m\u001b[0m\u001b[1;33m\u001b[0m\u001b[0m\n",
      "\u001b[1;32m~\\miniconda3\\envs\\fc\\lib\\site-packages\\debugpy\\_vendored\\pydevd\\pydevd.py\u001b[0m in \u001b[0;36msettrace\u001b[1;34m(host, stdout_to_server, stderr_to_server, port, suspend, trace_only_current_thread, overwrite_prev_trace, patch_multiprocessing, stop_at_frame, block_until_connected, wait_for_ready_to_run, dont_trace_start_patterns, dont_trace_end_patterns, access_token, client_access_token, notify_stdin, **kwargs)\u001b[0m\n\u001b[0;32m   2695\u001b[0m     \u001b[1;32mwith\u001b[0m \u001b[0m_set_trace_lock\u001b[0m\u001b[1;33m:\u001b[0m\u001b[1;33m\u001b[0m\u001b[1;33m\u001b[0m\u001b[0m\n\u001b[1;32m-> 2696\u001b[1;33m         _locked_settrace(\n\u001b[0m\u001b[0;32m   2697\u001b[0m             \u001b[0mhost\u001b[0m\u001b[1;33m,\u001b[0m\u001b[1;33m\u001b[0m\u001b[1;33m\u001b[0m\u001b[0m\n",
      "\u001b[1;32m~\\miniconda3\\envs\\fc\\lib\\site-packages\\debugpy\\_vendored\\pydevd\\pydevd.py\u001b[0m in \u001b[0;36m_locked_settrace\u001b[1;34m(host, stdout_to_server, stderr_to_server, port, suspend, trace_only_current_thread, patch_multiprocessing, stop_at_frame, block_until_connected, wait_for_ready_to_run, dont_trace_start_patterns, dont_trace_end_patterns, access_token, client_access_token, __setup_holder__, notify_stdin)\u001b[0m\n\u001b[0;32m   2776\u001b[0m         \u001b[1;32mif\u001b[0m \u001b[0mblock_until_connected\u001b[0m\u001b[1;33m:\u001b[0m\u001b[1;33m\u001b[0m\u001b[1;33m\u001b[0m\u001b[0m\n\u001b[1;32m-> 2777\u001b[1;33m             \u001b[0mpy_db\u001b[0m\u001b[1;33m.\u001b[0m\u001b[0mconnect\u001b[0m\u001b[1;33m(\u001b[0m\u001b[0mhost\u001b[0m\u001b[1;33m,\u001b[0m \u001b[0mport\u001b[0m\u001b[1;33m)\u001b[0m  \u001b[1;31m# Note: connect can raise error.\u001b[0m\u001b[1;33m\u001b[0m\u001b[1;33m\u001b[0m\u001b[0m\n\u001b[0m\u001b[0;32m   2778\u001b[0m         \u001b[1;32melse\u001b[0m\u001b[1;33m:\u001b[0m\u001b[1;33m\u001b[0m\u001b[1;33m\u001b[0m\u001b[0m\n",
      "\u001b[1;32m~\\miniconda3\\envs\\fc\\lib\\site-packages\\debugpy\\_vendored\\pydevd\\pydevd.py\u001b[0m in \u001b[0;36mconnect\u001b[1;34m(self, host, port)\u001b[0m\n\u001b[0;32m   1352\u001b[0m         \u001b[1;32mif\u001b[0m \u001b[0mhost\u001b[0m\u001b[1;33m:\u001b[0m\u001b[1;33m\u001b[0m\u001b[1;33m\u001b[0m\u001b[0m\n\u001b[1;32m-> 1353\u001b[1;33m             \u001b[0ms\u001b[0m \u001b[1;33m=\u001b[0m \u001b[0mstart_client\u001b[0m\u001b[1;33m(\u001b[0m\u001b[0mhost\u001b[0m\u001b[1;33m,\u001b[0m \u001b[0mport\u001b[0m\u001b[1;33m)\u001b[0m\u001b[1;33m\u001b[0m\u001b[1;33m\u001b[0m\u001b[0m\n\u001b[0m\u001b[0;32m   1354\u001b[0m         \u001b[1;32melse\u001b[0m\u001b[1;33m:\u001b[0m\u001b[1;33m\u001b[0m\u001b[1;33m\u001b[0m\u001b[0m\n",
      "\u001b[1;32m~\\miniconda3\\envs\\fc\\lib\\site-packages\\ptvsd\\pydevd_hooks.py\u001b[0m in \u001b[0;36m_start_client\u001b[1;34m(h, p)\u001b[0m\n\u001b[0;32m    135\u001b[0m         \u001b[0mptvsd\u001b[0m\u001b[1;33m.\u001b[0m\u001b[0mlog\u001b[0m\u001b[1;33m.\u001b[0m\u001b[0mdebug\u001b[0m\u001b[1;33m(\u001b[0m\u001b[1;34m'ptvsd: install._start_client.'\u001b[0m\u001b[1;33m)\u001b[0m\u001b[1;33m\u001b[0m\u001b[1;33m\u001b[0m\u001b[0m\n\u001b[1;32m--> 136\u001b[1;33m         \u001b[1;32mreturn\u001b[0m \u001b[0mstart_client\u001b[0m\u001b[1;33m(\u001b[0m\u001b[0mdaemon\u001b[0m\u001b[1;33m,\u001b[0m \u001b[0mh\u001b[0m\u001b[1;33m,\u001b[0m \u001b[0mp\u001b[0m\u001b[1;33m)\u001b[0m\u001b[1;33m\u001b[0m\u001b[1;33m\u001b[0m\u001b[0m\n\u001b[0m\u001b[0;32m    137\u001b[0m \u001b[1;33m\u001b[0m\u001b[0m\n",
      "\u001b[1;32m~\\miniconda3\\envs\\fc\\lib\\site-packages\\ptvsd\\_remote.py\u001b[0m in \u001b[0;36m<lambda>\u001b[1;34m(daemon, h, port)\u001b[0m\n\u001b[0;32m     61\u001b[0m                      \u001b[0mstart_server\u001b[0m\u001b[1;33m=\u001b[0m\u001b[1;32mNone\u001b[0m\u001b[1;33m,\u001b[0m\u001b[1;33m\u001b[0m\u001b[1;33m\u001b[0m\u001b[0m\n\u001b[1;32m---> 62\u001b[1;33m                      \u001b[0mstart_client\u001b[0m\u001b[1;33m=\u001b[0m\u001b[1;33m(\u001b[0m\u001b[1;32mlambda\u001b[0m \u001b[0mdaemon\u001b[0m\u001b[1;33m,\u001b[0m \u001b[0mh\u001b[0m\u001b[1;33m,\u001b[0m \u001b[0mport\u001b[0m\u001b[1;33m:\u001b[0m \u001b[0mstart_daemon\u001b[0m\u001b[1;33m(\u001b[0m\u001b[1;33m)\u001b[0m\u001b[1;33m)\u001b[0m\u001b[1;33m,\u001b[0m\u001b[1;33m\u001b[0m\u001b[1;33m\u001b[0m\u001b[0m\n\u001b[0m\u001b[0;32m     63\u001b[0m                      \u001b[0msinglesession\u001b[0m\u001b[1;33m=\u001b[0m\u001b[1;32mFalse\u001b[0m\u001b[1;33m,\u001b[0m\u001b[1;33m\u001b[0m\u001b[1;33m\u001b[0m\u001b[0m\n",
      "\u001b[1;32m~\\miniconda3\\envs\\fc\\lib\\site-packages\\ptvsd\\_remote.py\u001b[0m in \u001b[0;36mstart_daemon\u001b[1;34m()\u001b[0m\n\u001b[0;32m     49\u001b[0m         \u001b[0mdaemon\u001b[0m\u001b[1;33m.\u001b[0m\u001b[0m_sock\u001b[0m \u001b[1;33m=\u001b[0m \u001b[0mdaemon\u001b[0m\u001b[1;33m.\u001b[0m\u001b[0m_start\u001b[0m\u001b[1;33m(\u001b[0m\u001b[1;33m)\u001b[0m\u001b[1;33m\u001b[0m\u001b[1;33m\u001b[0m\u001b[0m\n\u001b[1;32m---> 50\u001b[1;33m         \u001b[0m_\u001b[0m\u001b[1;33m,\u001b[0m \u001b[0mnext_session\u001b[0m \u001b[1;33m=\u001b[0m \u001b[0mdaemon\u001b[0m\u001b[1;33m.\u001b[0m\u001b[0mstart_server\u001b[0m\u001b[1;33m(\u001b[0m\u001b[0maddr\u001b[0m\u001b[1;33m=\u001b[0m\u001b[1;33m(\u001b[0m\u001b[0mhost\u001b[0m\u001b[1;33m,\u001b[0m \u001b[0mport\u001b[0m\u001b[1;33m)\u001b[0m\u001b[1;33m)\u001b[0m\u001b[1;33m\u001b[0m\u001b[1;33m\u001b[0m\u001b[0m\n\u001b[0m\u001b[0;32m     51\u001b[0m         \u001b[1;32mglobal\u001b[0m \u001b[0mglobal_next_session\u001b[0m\u001b[1;33m\u001b[0m\u001b[1;33m\u001b[0m\u001b[0m\n",
      "\u001b[1;32m~\\miniconda3\\envs\\fc\\lib\\site-packages\\ptvsd\\daemon.py\u001b[0m in \u001b[0;36mstart_server\u001b[1;34m(self, addr, hidebadsessions)\u001b[0m\n\u001b[0;32m    160\u001b[0m             \u001b[1;32massert\u001b[0m \u001b[0mself\u001b[0m\u001b[1;33m.\u001b[0m\u001b[0msession\u001b[0m \u001b[1;32mis\u001b[0m \u001b[1;32mNone\u001b[0m\u001b[1;33m\u001b[0m\u001b[1;33m\u001b[0m\u001b[0m\n\u001b[1;32m--> 161\u001b[1;33m             \u001b[0mself\u001b[0m\u001b[1;33m.\u001b[0m\u001b[0m_server\u001b[0m \u001b[1;33m=\u001b[0m \u001b[0mcreate_server\u001b[0m\u001b[1;33m(\u001b[0m\u001b[0maddr\u001b[0m\u001b[1;33m.\u001b[0m\u001b[0mhost\u001b[0m\u001b[1;33m,\u001b[0m \u001b[0maddr\u001b[0m\u001b[1;33m.\u001b[0m\u001b[0mport\u001b[0m\u001b[1;33m)\u001b[0m\u001b[1;33m\u001b[0m\u001b[1;33m\u001b[0m\u001b[0m\n\u001b[0m\u001b[0;32m    162\u001b[0m             \u001b[0mhost\u001b[0m\u001b[1;33m,\u001b[0m \u001b[0mport\u001b[0m \u001b[1;33m=\u001b[0m \u001b[0mself\u001b[0m\u001b[1;33m.\u001b[0m\u001b[0m_server\u001b[0m\u001b[1;33m.\u001b[0m\u001b[0mgetsockname\u001b[0m\u001b[1;33m(\u001b[0m\u001b[1;33m)\u001b[0m\u001b[1;33m\u001b[0m\u001b[1;33m\u001b[0m\u001b[0m\n",
      "\u001b[1;32m~\\miniconda3\\envs\\fc\\lib\\site-packages\\ptvsd\\socket.py\u001b[0m in \u001b[0;36mcreate_server\u001b[1;34m(host, port, timeout)\u001b[0m\n\u001b[0;32m     78\u001b[0m     \u001b[1;32mtry\u001b[0m\u001b[1;33m:\u001b[0m\u001b[1;33m\u001b[0m\u001b[1;33m\u001b[0m\u001b[0m\n\u001b[1;32m---> 79\u001b[1;33m         \u001b[0mserver\u001b[0m\u001b[1;33m.\u001b[0m\u001b[0mbind\u001b[0m\u001b[1;33m(\u001b[0m\u001b[1;33m(\u001b[0m\u001b[0mhost\u001b[0m\u001b[1;33m,\u001b[0m \u001b[0mport\u001b[0m\u001b[1;33m)\u001b[0m\u001b[1;33m)\u001b[0m\u001b[1;33m\u001b[0m\u001b[1;33m\u001b[0m\u001b[0m\n\u001b[0m\u001b[0;32m     80\u001b[0m         \u001b[1;32mif\u001b[0m \u001b[0mtimeout\u001b[0m \u001b[1;32mis\u001b[0m \u001b[1;32mnot\u001b[0m \u001b[1;32mNone\u001b[0m\u001b[1;33m:\u001b[0m\u001b[1;33m\u001b[0m\u001b[1;33m\u001b[0m\u001b[0m\n",
      "\u001b[1;31mOSError\u001b[0m: [WinError 10048] 通常、各ソケット アドレスに対してプロトコル、ネットワーク アドレス、またはポートのどれか 1 つのみを使用できます。",
      "\nDuring handling of the above exception, another exception occurred:\n",
      "\u001b[1;31mAttributeError\u001b[0m                            Traceback (most recent call last)",
      "\u001b[1;32m~\\miniconda3\\envs\\fc\\lib\\site-packages\\IPython\\core\\interactiveshell.py\u001b[0m in \u001b[0;36mshowtraceback\u001b[1;34m(self, exc_tuple, filename, tb_offset, exception_only, running_compiled_code)\u001b[0m\n\u001b[0;32m   2060\u001b[0m                         \u001b[1;31m# in the engines. This should return a list of strings.\u001b[0m\u001b[1;33m\u001b[0m\u001b[1;33m\u001b[0m\u001b[0m\n\u001b[1;32m-> 2061\u001b[1;33m                         \u001b[0mstb\u001b[0m \u001b[1;33m=\u001b[0m \u001b[0mvalue\u001b[0m\u001b[1;33m.\u001b[0m\u001b[0m_render_traceback_\u001b[0m\u001b[1;33m(\u001b[0m\u001b[1;33m)\u001b[0m\u001b[1;33m\u001b[0m\u001b[1;33m\u001b[0m\u001b[0m\n\u001b[0m\u001b[0;32m   2062\u001b[0m                     \u001b[1;32mexcept\u001b[0m \u001b[0mException\u001b[0m\u001b[1;33m:\u001b[0m\u001b[1;33m\u001b[0m\u001b[1;33m\u001b[0m\u001b[0m\n",
      "\u001b[1;31mAttributeError\u001b[0m: 'OSError' object has no attribute '_render_traceback_'",
      "\nDuring handling of the above exception, another exception occurred:\n",
      "\u001b[1;31mTypeError\u001b[0m                                 Traceback (most recent call last)",
      "    \u001b[1;31m[... skipping hidden 1 frame]\u001b[0m\n",
      "\u001b[1;32m~\\miniconda3\\envs\\fc\\lib\\site-packages\\IPython\\core\\interactiveshell.py\u001b[0m in \u001b[0;36mshowtraceback\u001b[1;34m(self, exc_tuple, filename, tb_offset, exception_only, running_compiled_code)\u001b[0m\n\u001b[0;32m   2061\u001b[0m                         \u001b[0mstb\u001b[0m \u001b[1;33m=\u001b[0m \u001b[0mvalue\u001b[0m\u001b[1;33m.\u001b[0m\u001b[0m_render_traceback_\u001b[0m\u001b[1;33m(\u001b[0m\u001b[1;33m)\u001b[0m\u001b[1;33m\u001b[0m\u001b[1;33m\u001b[0m\u001b[0m\n\u001b[0;32m   2062\u001b[0m                     \u001b[1;32mexcept\u001b[0m \u001b[0mException\u001b[0m\u001b[1;33m:\u001b[0m\u001b[1;33m\u001b[0m\u001b[1;33m\u001b[0m\u001b[0m\n\u001b[1;32m-> 2063\u001b[1;33m                         stb = self.InteractiveTB.structured_traceback(etype,\n\u001b[0m\u001b[0;32m   2064\u001b[0m                                             value, tb, tb_offset=tb_offset)\n\u001b[0;32m   2065\u001b[0m \u001b[1;33m\u001b[0m\u001b[0m\n",
      "\u001b[1;32m~\\miniconda3\\envs\\fc\\lib\\site-packages\\IPython\\core\\ultratb.py\u001b[0m in \u001b[0;36mstructured_traceback\u001b[1;34m(self, etype, value, tb, tb_offset, number_of_lines_of_context)\u001b[0m\n\u001b[0;32m   1365\u001b[0m         \u001b[1;32melse\u001b[0m\u001b[1;33m:\u001b[0m\u001b[1;33m\u001b[0m\u001b[1;33m\u001b[0m\u001b[0m\n\u001b[0;32m   1366\u001b[0m             \u001b[0mself\u001b[0m\u001b[1;33m.\u001b[0m\u001b[0mtb\u001b[0m \u001b[1;33m=\u001b[0m \u001b[0mtb\u001b[0m\u001b[1;33m\u001b[0m\u001b[1;33m\u001b[0m\u001b[0m\n\u001b[1;32m-> 1367\u001b[1;33m         return FormattedTB.structured_traceback(\n\u001b[0m\u001b[0;32m   1368\u001b[0m             self, etype, value, tb, tb_offset, number_of_lines_of_context)\n\u001b[0;32m   1369\u001b[0m \u001b[1;33m\u001b[0m\u001b[0m\n",
      "\u001b[1;32m~\\miniconda3\\envs\\fc\\lib\\site-packages\\IPython\\core\\ultratb.py\u001b[0m in \u001b[0;36mstructured_traceback\u001b[1;34m(self, etype, value, tb, tb_offset, number_of_lines_of_context)\u001b[0m\n\u001b[0;32m   1265\u001b[0m         \u001b[1;32mif\u001b[0m \u001b[0mmode\u001b[0m \u001b[1;32min\u001b[0m \u001b[0mself\u001b[0m\u001b[1;33m.\u001b[0m\u001b[0mverbose_modes\u001b[0m\u001b[1;33m:\u001b[0m\u001b[1;33m\u001b[0m\u001b[1;33m\u001b[0m\u001b[0m\n\u001b[0;32m   1266\u001b[0m             \u001b[1;31m# Verbose modes need a full traceback\u001b[0m\u001b[1;33m\u001b[0m\u001b[1;33m\u001b[0m\u001b[0m\n\u001b[1;32m-> 1267\u001b[1;33m             return VerboseTB.structured_traceback(\n\u001b[0m\u001b[0;32m   1268\u001b[0m                 \u001b[0mself\u001b[0m\u001b[1;33m,\u001b[0m \u001b[0metype\u001b[0m\u001b[1;33m,\u001b[0m \u001b[0mvalue\u001b[0m\u001b[1;33m,\u001b[0m \u001b[0mtb\u001b[0m\u001b[1;33m,\u001b[0m \u001b[0mtb_offset\u001b[0m\u001b[1;33m,\u001b[0m \u001b[0mnumber_of_lines_of_context\u001b[0m\u001b[1;33m\u001b[0m\u001b[1;33m\u001b[0m\u001b[0m\n\u001b[0;32m   1269\u001b[0m             )\n",
      "\u001b[1;32m~\\miniconda3\\envs\\fc\\lib\\site-packages\\IPython\\core\\ultratb.py\u001b[0m in \u001b[0;36mstructured_traceback\u001b[1;34m(self, etype, evalue, etb, tb_offset, number_of_lines_of_context)\u001b[0m\n\u001b[0;32m   1122\u001b[0m         \u001b[1;34m\"\"\"Return a nice text document describing the traceback.\"\"\"\u001b[0m\u001b[1;33m\u001b[0m\u001b[1;33m\u001b[0m\u001b[0m\n\u001b[0;32m   1123\u001b[0m \u001b[1;33m\u001b[0m\u001b[0m\n\u001b[1;32m-> 1124\u001b[1;33m         formatted_exception = self.format_exception_as_a_whole(etype, evalue, etb, number_of_lines_of_context,\n\u001b[0m\u001b[0;32m   1125\u001b[0m                                                                tb_offset)\n\u001b[0;32m   1126\u001b[0m \u001b[1;33m\u001b[0m\u001b[0m\n",
      "\u001b[1;32m~\\miniconda3\\envs\\fc\\lib\\site-packages\\IPython\\core\\ultratb.py\u001b[0m in \u001b[0;36mformat_exception_as_a_whole\u001b[1;34m(self, etype, evalue, etb, number_of_lines_of_context, tb_offset)\u001b[0m\n\u001b[0;32m   1080\u001b[0m \u001b[1;33m\u001b[0m\u001b[0m\n\u001b[0;32m   1081\u001b[0m \u001b[1;33m\u001b[0m\u001b[0m\n\u001b[1;32m-> 1082\u001b[1;33m         \u001b[0mlast_unique\u001b[0m\u001b[1;33m,\u001b[0m \u001b[0mrecursion_repeat\u001b[0m \u001b[1;33m=\u001b[0m \u001b[0mfind_recursion\u001b[0m\u001b[1;33m(\u001b[0m\u001b[0morig_etype\u001b[0m\u001b[1;33m,\u001b[0m \u001b[0mevalue\u001b[0m\u001b[1;33m,\u001b[0m \u001b[0mrecords\u001b[0m\u001b[1;33m)\u001b[0m\u001b[1;33m\u001b[0m\u001b[1;33m\u001b[0m\u001b[0m\n\u001b[0m\u001b[0;32m   1083\u001b[0m \u001b[1;33m\u001b[0m\u001b[0m\n\u001b[0;32m   1084\u001b[0m         \u001b[0mframes\u001b[0m \u001b[1;33m=\u001b[0m \u001b[0mself\u001b[0m\u001b[1;33m.\u001b[0m\u001b[0mformat_records\u001b[0m\u001b[1;33m(\u001b[0m\u001b[0mrecords\u001b[0m\u001b[1;33m,\u001b[0m \u001b[0mlast_unique\u001b[0m\u001b[1;33m,\u001b[0m \u001b[0mrecursion_repeat\u001b[0m\u001b[1;33m)\u001b[0m\u001b[1;33m\u001b[0m\u001b[1;33m\u001b[0m\u001b[0m\n",
      "\u001b[1;32m~\\miniconda3\\envs\\fc\\lib\\site-packages\\IPython\\core\\ultratb.py\u001b[0m in \u001b[0;36mfind_recursion\u001b[1;34m(etype, value, records)\u001b[0m\n\u001b[0;32m    380\u001b[0m     \u001b[1;31m# first frame (from in to out) that looks different.\u001b[0m\u001b[1;33m\u001b[0m\u001b[1;33m\u001b[0m\u001b[0m\n\u001b[0;32m    381\u001b[0m     \u001b[1;32mif\u001b[0m \u001b[1;32mnot\u001b[0m \u001b[0mis_recursion_error\u001b[0m\u001b[1;33m(\u001b[0m\u001b[0metype\u001b[0m\u001b[1;33m,\u001b[0m \u001b[0mvalue\u001b[0m\u001b[1;33m,\u001b[0m \u001b[0mrecords\u001b[0m\u001b[1;33m)\u001b[0m\u001b[1;33m:\u001b[0m\u001b[1;33m\u001b[0m\u001b[1;33m\u001b[0m\u001b[0m\n\u001b[1;32m--> 382\u001b[1;33m         \u001b[1;32mreturn\u001b[0m \u001b[0mlen\u001b[0m\u001b[1;33m(\u001b[0m\u001b[0mrecords\u001b[0m\u001b[1;33m)\u001b[0m\u001b[1;33m,\u001b[0m \u001b[1;36m0\u001b[0m\u001b[1;33m\u001b[0m\u001b[1;33m\u001b[0m\u001b[0m\n\u001b[0m\u001b[0;32m    383\u001b[0m \u001b[1;33m\u001b[0m\u001b[0m\n\u001b[0;32m    384\u001b[0m     \u001b[1;31m# Select filename, lineno, func_name to track frames with\u001b[0m\u001b[1;33m\u001b[0m\u001b[1;33m\u001b[0m\u001b[0m\n",
      "\u001b[1;31mTypeError\u001b[0m: object of type 'NoneType' has no len()"
     ]
    }
   ],
   "source": [
    "import ptvsd\n",
    "print(\"Waiting for debugger attach\")\n",
    "# 5678 is the default attach port in the VS Code debug configurations\n",
    "ptvsd.enable_attach(address=('localhost', 5678), redirect_output=True)\n",
    "ptvsd.wait_for_attach()"
   ]
  },
  {
   "cell_type": "code",
   "execution_count": null,
   "id": "86e9db33",
   "metadata": {},
   "outputs": [],
   "source": [
    "import FreeCAD\n",
    "v1 = FreeCAD.Vector(5,0,0)\n",
    "v1.normalize()\n",
    "print (str(v1))"
   ]
  },
  {
   "cell_type": "code",
   "execution_count": null,
   "id": "cd355e51",
   "metadata": {},
   "outputs": [],
   "source": []
  },
  {
   "cell_type": "code",
   "execution_count": null,
   "id": "7dd69908",
   "metadata": {},
   "outputs": [],
   "source": []
  },
  {
   "cell_type": "code",
   "execution_count": null,
   "id": "a159ed98",
   "metadata": {},
   "outputs": [],
   "source": []
  },
  {
   "cell_type": "code",
   "execution_count": null,
   "id": "17160105",
   "metadata": {},
   "outputs": [],
   "source": []
  },
  {
   "cell_type": "code",
   "execution_count": null,
   "id": "69a98e0f",
   "metadata": {},
   "outputs": [],
   "source": []
  },
  {
   "cell_type": "code",
   "execution_count": null,
   "id": "de263056",
   "metadata": {},
   "outputs": [],
   "source": [
    "! explorer C:\\Users\\M151325\\AppData\\Roaming\\FreeCAD"
   ]
  },
  {
   "cell_type": "code",
   "execution_count": null,
   "id": "fbe6af75",
   "metadata": {},
   "outputs": [],
   "source": []
  },
  {
   "cell_type": "code",
   "execution_count": null,
   "id": "fb92a741",
   "metadata": {},
   "outputs": [],
   "source": [
    "%gui qt5"
   ]
  },
  {
   "cell_type": "code",
   "execution_count": null,
   "id": "b68d2010",
   "metadata": {},
   "outputs": [],
   "source": [
    "import sys, os"
   ]
  },
  {
   "cell_type": "code",
   "execution_count": null,
   "id": "c29258fb",
   "metadata": {},
   "outputs": [],
   "source": [
    "os.environ[\"QT_API\"] = \"pyside2\"\n",
    "prefix = os.environ['CONDA_PREFIX']\n",
    "sys.path.append(prefix+\"/\")\n",
    "sys.path.append(prefix+\"lib/\")\n",
    "# sys.path.append(prefix+\"lib/\")"
   ]
  },
  {
   "cell_type": "code",
   "execution_count": null,
   "id": "0460d96b",
   "metadata": {},
   "outputs": [],
   "source": [
    "# %gui qt5\n",
    "# import sys, os\n",
    "# os.environ[\"QT_API\"]=\"pyside\"\n",
    "# prefix = os.environ['CONDA_PREFIX']\n",
    "sys.path.append(prefix+\"\\\\Library\\\\bin\")\n",
    "sys.path.append(prefix+\"\\\\Library\\\\data\")\n",
    "import FreeCAD\n",
    "import FreeCADGui\n"
   ]
  },
  {
   "cell_type": "code",
   "execution_count": null,
   "id": "c5193d78",
   "metadata": {},
   "outputs": [],
   "source": [
    "FreeCADGui.showMainWindow()"
   ]
  },
  {
   "cell_type": "code",
   "execution_count": null,
   "id": "d887eb89",
   "metadata": {},
   "outputs": [],
   "source": [
    "elt.Curve"
   ]
  },
  {
   "cell_type": "code",
   "execution_count": null,
   "id": "05e9137f",
   "metadata": {},
   "outputs": [],
   "source": [
    "elt."
   ]
  },
  {
   "cell_type": "code",
   "execution_count": null,
   "id": "9f7f7a5a",
   "metadata": {},
   "outputs": [],
   "source": [
    "%gui qt5\n",
    "import sys, os\n",
    "os.environ[\"QT_API\"]=\"pyside2\"\n",
    "prefix = os.environ['CONDA_PREFIX']\n",
    "sys.path.append(prefix+\"\\\\Library\\\\bin\")"
   ]
  },
  {
   "cell_type": "code",
   "execution_count": null,
   "id": "a44eced9",
   "metadata": {},
   "outputs": [],
   "source": [
    "import FreeCAD\n",
    "import FreeCADGui"
   ]
  },
  {
   "cell_type": "code",
   "execution_count": null,
   "id": "dae1ee5d",
   "metadata": {},
   "outputs": [],
   "source": [
    "App.newDocument(\"sample2\") "
   ]
  },
  {
   "cell_type": "code",
   "execution_count": null,
   "id": "7bcd8f9c",
   "metadata": {},
   "outputs": [],
   "source": [
    "App.ActiveDocument.addObject(\"Part::Cylinder\",\"Cylinder\")\n",
    "App.ActiveDocument.ActiveObject.Label = \"円柱\"\n",
    "App.ActiveDocument.addObject(\"Part::Box\",\"Box\")\n",
    "App.ActiveDocument.ActiveObject.Label = \"立方体\""
   ]
  },
  {
   "cell_type": "code",
   "execution_count": null,
   "id": "1bce0af1",
   "metadata": {},
   "outputs": [],
   "source": [
    "FreeCADGui.showMainWindow()"
   ]
  },
  {
   "cell_type": "code",
   "execution_count": null,
   "id": "b2a326be",
   "metadata": {},
   "outputs": [],
   "source": [
    "! FreeCAD"
   ]
  },
  {
   "cell_type": "code",
   "execution_count": null,
   "id": "a1563ce7",
   "metadata": {},
   "outputs": [],
   "source": [
    "import BOPTools.SplitFeatures"
   ]
  },
  {
   "cell_type": "code",
   "execution_count": null,
   "id": "4f23bbe9",
   "metadata": {},
   "outputs": [],
   "source": [
    "f = BOPTools.SplitFeatures.makeSlice(name='Slice')\n",
    "f.Base = [App.ActiveDocument.Cylinder, App.ActiveDocument.Box][0]\n",
    "f.Tools = [App.ActiveDocument.Cylinder, App.ActiveDocument.Box][1:]\n",
    "f.Mode = 'Split'\n",
    "f.Proxy.execute(f)\n",
    "f.purgeTouched()\n",
    "for obj in f.ViewObject.Proxy.claimChildren():\n",
    "    obj.ViewObject.hide()\n",
    "import CompoundTools.Explode\n",
    "CompoundTools.Explode.explodeCompound(f)\n",
    "f.ViewObject.hide()\n",
    "App.ActiveDocument.recompute()"
   ]
  },
  {
   "cell_type": "code",
   "execution_count": null,
   "id": "ba387244",
   "metadata": {},
   "outputs": [],
   "source": [
    "Gui.activateWorkbench(\"RocketWorkbench\")"
   ]
  },
  {
   "cell_type": "code",
   "execution_count": null,
   "id": "4a426c76",
   "metadata": {},
   "outputs": [],
   "source": [
    "import sys\n",
    "sys.path.append(r\"C:\\Users\\M151325\\AppData\\Roaming\\FreeCAD\\Mod\\Rocket\")"
   ]
  },
  {
   "cell_type": "code",
   "execution_count": null,
   "id": "a22edb0a",
   "metadata": {},
   "outputs": [],
   "source": [
    "import Ui.CmdNoseCone"
   ]
  },
  {
   "cell_type": "code",
   "execution_count": null,
   "id": "089e6e77",
   "metadata": {},
   "outputs": [],
   "source": [
    "from PySide import QtCore, QtGui"
   ]
  },
  {
   "cell_type": "code",
   "execution_count": null,
   "id": "2f4584f4",
   "metadata": {},
   "outputs": [],
   "source": [
    "import Ui.CmdNoseCone\n",
    "Ui.CmdNoseCone.makeNoseCone('NoseCone')\n",
    "FreeCADGui.activeDocument().setEdit(FreeCAD.ActiveDocument.ActiveObject.Name,0)"
   ]
  },
  {
   "cell_type": "code",
   "execution_count": null,
   "id": "6af09617",
   "metadata": {},
   "outputs": [],
   "source": []
  },
  {
   "cell_type": "code",
   "execution_count": null,
   "id": "3f1541bd",
   "metadata": {},
   "outputs": [],
   "source": [
    "FreeCADGui.showMainWindow()"
   ]
  },
  {
   "cell_type": "code",
   "execution_count": null,
   "id": "e07a5b7a",
   "metadata": {},
   "outputs": [],
   "source": [
    "import FreeCAD\n",
    "import Part"
   ]
  },
  {
   "cell_type": "code",
   "execution_count": null,
   "id": "31064752",
   "metadata": {},
   "outputs": [],
   "source": [
    "App.newDocument(\"sample2\") "
   ]
  },
  {
   "cell_type": "code",
   "execution_count": null,
   "id": "871774aa",
   "metadata": {},
   "outputs": [],
   "source": [
    "App.ActiveDocument.addObject(\"Part::Cylinder\", \"cyl\")\n",
    "FreeCAD.getDocument(\"sample\").getObject(\"cyl\").Radius = '40 mm'\n",
    "FreeCAD.getDocument(\"sample\").getObject(\"cyl\").Height = '35 mm'"
   ]
  },
  {
   "cell_type": "code",
   "execution_count": null,
   "id": "7bf40a79",
   "metadata": {},
   "outputs": [],
   "source": [
    "Gui.runCommand('Part_CompSplitFeatures',1)"
   ]
  },
  {
   "cell_type": "code",
   "execution_count": null,
   "id": "b7fae6d9",
   "metadata": {},
   "outputs": [],
   "source": []
  },
  {
   "cell_type": "code",
   "execution_count": null,
   "id": "89bc8f21",
   "metadata": {},
   "outputs": [],
   "source": [
    "! FreeCad"
   ]
  },
  {
   "cell_type": "code",
   "execution_count": null,
   "id": "45ece48e",
   "metadata": {},
   "outputs": [],
   "source": [
    "\n",
    ">>> \n",
    "\n",
    ">>> ### End command Part_CompSpl"
   ]
  }
 ],
 "metadata": {
  "interpreter": {
   "hash": "4d5f4defa001ccc58edac52c88397308342c6fd13e6870b4b8b9f69b43a44c91"
  },
  "kernelspec": {
   "display_name": "Python 3 (ipykernel)",
   "language": "python",
   "name": "python3"
  },
  "language_info": {
   "codemirror_mode": {
    "name": "ipython",
    "version": 3
   },
   "file_extension": ".py",
   "mimetype": "text/x-python",
   "name": "python",
   "nbconvert_exporter": "python",
   "pygments_lexer": "ipython3",
   "version": "3.9.5"
  }
 },
 "nbformat": 4,
 "nbformat_minor": 5
}
