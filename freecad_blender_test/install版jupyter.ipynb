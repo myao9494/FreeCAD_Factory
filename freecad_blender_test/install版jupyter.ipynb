{
 "cells": [
  {
   "cell_type": "code",
   "execution_count": 1,
   "id": "16933598",
   "metadata": {},
   "outputs": [],
   "source": [
    "import sys, os"
   ]
  },
  {
   "cell_type": "code",
   "execution_count": 10,
   "id": "569e76d8",
   "metadata": {},
   "outputs": [
    {
     "data": {
      "text/plain": [
       "['/Users/myao9494/Library/Preferences/FreeCAD/Mod/Assembly4',\n",
       " '/Users/myao9494/Library/Preferences/FreeCAD/Mod/Curves',\n",
       " '/Users/myao9494/Library/Preferences/FreeCAD/Mod/ExplodedAssembly',\n",
       " '/Users/myao9494/Library/Preferences/FreeCAD/Mod/3D_Printing_Tools',\n",
       " '/Users/myao9494/Library/Preferences/FreeCAD/Mod/FEM_FrontISTR',\n",
       " '/Users/myao9494/Library/Preferences/FreeCAD/Mod/CurvedShapes',\n",
       " '/Users/myao9494/Library/Preferences/FreeCAD/Mod/Rocket',\n",
       " '/Users/myao9494/Library/Preferences/FreeCAD/Mod/AirPlaneDesign',\n",
       " '/Users/myao9494/Library/Preferences/FreeCAD/Mod/fasteners',\n",
       " '/Users/myao9494/Library/Preferences/FreeCAD/Mod/Defeaturing',\n",
       " '/Users/myao9494/Library/Preferences/FreeCAD/Mod/BOLTSFC',\n",
       " '/Users/myao9494/Library/Preferences/FreeCAD/Mod/3DfindIT',\n",
       " '/Users/myao9494/Library/Preferences/FreeCAD/Mod/PieMenu',\n",
       " '/Applications/FreeCAD.app/Contents/Resources/Mod/Raytracing',\n",
       " '/Applications/FreeCAD.app/Contents/Resources/Mod/Material',\n",
       " '/Applications/FreeCAD.app/Contents/Resources/Mod/Import',\n",
       " '/Applications/FreeCAD.app/Contents/Resources/Mod/Part',\n",
       " '/Applications/FreeCAD.app/Contents/Resources/Mod/Tux',\n",
       " '/Applications/FreeCAD.app/Contents/Resources/Mod/PartDesign',\n",
       " '/Applications/FreeCAD.app/Contents/Resources/Mod/Measure',\n",
       " '/Applications/FreeCAD.app/Contents/Resources/Mod/Points',\n",
       " '/Applications/FreeCAD.app/Contents/Resources/Mod/AddonManager',\n",
       " '/Applications/FreeCAD.app/Contents/Resources/Mod/Arch',\n",
       " '/Applications/FreeCAD.app/Contents/Resources/Mod/Idf',\n",
       " '/Applications/FreeCAD.app/Contents/Resources/Mod/Inspection',\n",
       " '/Applications/FreeCAD.app/Contents/Resources/Mod/Image',\n",
       " '/Applications/FreeCAD.app/Contents/Resources/Mod/Robot',\n",
       " '/Applications/FreeCAD.app/Contents/Resources/Mod/Surface',\n",
       " '/Applications/FreeCAD.app/Contents/Resources/Mod/OpenSCAD',\n",
       " '/Applications/FreeCAD.app/Contents/Resources/Mod/Start',\n",
       " '/Applications/FreeCAD.app/Contents/Resources/Mod/Sketcher',\n",
       " '/Applications/FreeCAD.app/Contents/Resources/Mod/Show',\n",
       " '/Applications/FreeCAD.app/Contents/Resources/Mod/MeshPart',\n",
       " '/Applications/FreeCAD.app/Contents/Resources/Mod/Path',\n",
       " '/Applications/FreeCAD.app/Contents/Resources/Mod/TechDraw',\n",
       " '/Applications/FreeCAD.app/Contents/Resources/Mod/Web',\n",
       " '/Applications/FreeCAD.app/Contents/Resources/Mod/Spreadsheet',\n",
       " '/Applications/FreeCAD.app/Contents/Resources/Mod/Fem',\n",
       " '/Applications/FreeCAD.app/Contents/Resources/Mod/Test',\n",
       " '/Applications/FreeCAD.app/Contents/Resources/Mod/Drawing',\n",
       " '/Applications/FreeCAD.app/Contents/Resources/Mod/ReverseEngineering',\n",
       " '/Applications/FreeCAD.app/Contents/Resources/Mod/Draft',\n",
       " '/Applications/FreeCAD.app/Contents/Resources/Mod/Mesh',\n",
       " '/Applications/FreeCAD.app/Contents/Resources/Mod',\n",
       " '/Applications/FreeCAD.app/Contents/Resources/lib',\n",
       " '/Applications/FreeCAD.app/Contents/Resources/Ext',\n",
       " '/Users/myao9494/000_Google_drive/FreeCAD_Factory',\n",
       " '/Applications/FreeCAD.app/Contents/Resources/lib/python38.zip',\n",
       " '/Applications/FreeCAD.app/Contents/Resources/lib/python3.8',\n",
       " '/Applications/FreeCAD.app/Contents/Resources/lib/python3.8/lib-dynload',\n",
       " '',\n",
       " '/Users/myao9494/.local/lib/python3.8/site-packages',\n",
       " '/Applications/FreeCAD.app/Contents/Resources/lib/python3.8/site-packages',\n",
       " '/Applications/FreeCAD.app/Contents/Resources/lib/python3.8/site-packages/IPython/extensions',\n",
       " '/Users/myao9494/.ipython',\n",
       " '/Applications/FreeCAD.app/Contents/Resources/lib',\n",
       " '/Applications/FreeCAD.app/Contents/Resources/lib/python3.8/site-packages',\n",
       " '/Users/myao9494/Library/Preferences/FreeCAD/Macro/',\n",
       " '/Applications/FreeCAD.app/Contents/Resources/Macro',\n",
       " '/Users/myao9494/Library/Application Support/FreeCAD/Mod']"
      ]
     },
     "execution_count": 10,
     "metadata": {},
     "output_type": "execute_result"
    }
   ],
   "source": [
    "dirs = sys.path\n",
    "dirs"
   ]
  },
  {
   "cell_type": "code",
   "execution_count": 11,
   "id": "d945f0ea",
   "metadata": {},
   "outputs": [
    {
     "data": {
      "text/plain": [
       "'Mod/Fem'"
      ]
     },
     "execution_count": 11,
     "metadata": {},
     "output_type": "execute_result"
    }
   ],
   "source": [
    "\"Mod\" + os.path.sep + \"Fem\" "
   ]
  },
  {
   "cell_type": "code",
   "execution_count": 3,
   "id": "50a4b7ca",
   "metadata": {},
   "outputs": [],
   "source": [
    "sys.path.append(\"/Applications/FreeCAD.app/Contents/Resources/lib\")\n",
    "sys.path.append(\"/Applications/FreeCAD.app/Contents/Resources/lib/python3.8/site-packages\")\n",
    "# sys.path.append(\"/Applications/FreeCAD.app/Contents/Resources/Mod/Part\")\n",
    "\n"
   ]
  },
  {
   "cell_type": "code",
   "execution_count": 5,
   "id": "ab230b38",
   "metadata": {},
   "outputs": [],
   "source": [
    "os.environ[\"QT_API\"] = \"pyside\""
   ]
  },
  {
   "cell_type": "code",
   "execution_count": 8,
   "id": "aae69a48",
   "metadata": {},
   "outputs": [],
   "source": [
    "%gui qt5"
   ]
  },
  {
   "cell_type": "code",
   "execution_count": 9,
   "id": "a238c13d",
   "metadata": {},
   "outputs": [
    {
     "name": "stdout",
     "output_type": "stream",
     "text": [
      "Assembly4 workbench loaded \n"
     ]
    }
   ],
   "source": [
    "import freecad\n",
    "App = freecad.app\n",
    "import Part\n",
    "import FreeCADGui as Gui\n",
    "from PySide import QtGui\n",
    "app = QtGui.QApplication(sys.argv)"
   ]
  },
  {
   "cell_type": "code",
   "execution_count": 12,
   "id": "ba7bf567",
   "metadata": {},
   "outputs": [],
   "source": [
    "Gui.showMainWindow()"
   ]
  },
  {
   "cell_type": "code",
   "execution_count": 13,
   "id": "e7127285",
   "metadata": {},
   "outputs": [
    {
     "ename": "ModuleNotFoundError",
     "evalue": "No module named 'CommandShapes'",
     "output_type": "error",
     "traceback": [
      "\u001b[0;31m---------------------------------------------------------------------------\u001b[0m",
      "\u001b[0;31mModuleNotFoundError\u001b[0m                       Traceback (most recent call last)",
      "\u001b[0;32m/var/folders/xs/ryx995dd64q5y13vc9xlyybc0000gn/T/ipykernel_4398/1454201768.py\u001b[0m in \u001b[0;36m<module>\u001b[0;34m\u001b[0m\n\u001b[0;32m----> 1\u001b[0;31m \u001b[0;32mimport\u001b[0m \u001b[0mCommandShapes\u001b[0m\u001b[0;34m\u001b[0m\u001b[0;34m\u001b[0m\u001b[0m\n\u001b[0m",
      "\u001b[0;31mModuleNotFoundError\u001b[0m: No module named 'CommandShapes'"
     ]
    }
   ],
   "source": [
    "import CommandShapes\n"
   ]
  },
  {
   "cell_type": "code",
   "execution_count": 8,
   "id": "8d782a31",
   "metadata": {},
   "outputs": [
    {
     "data": {
      "text/plain": [
       "<Document object at 0x7fee5801c200>"
      ]
     },
     "execution_count": 8,
     "metadata": {},
     "output_type": "execute_result"
    }
   ],
   "source": [
    "App.newDocument(\"Unnamed\")"
   ]
  },
  {
   "cell_type": "code",
   "execution_count": 11,
   "id": "e33e2e3d",
   "metadata": {},
   "outputs": [
    {
     "ename": "FreeCADError",
     "evalue": "No such command 'Part_Tube'",
     "output_type": "error",
     "traceback": [
      "\u001b[0;31m---------------------------------------------------------------------------\u001b[0m",
      "\u001b[0;31mFreeCADError\u001b[0m                              Traceback (most recent call last)",
      "\u001b[0;32m/var/folders/xs/ryx995dd64q5y13vc9xlyybc0000gn/T/ipykernel_4211/1960838196.py\u001b[0m in \u001b[0;36m<module>\u001b[0;34m\u001b[0m\n\u001b[1;32m     23\u001b[0m \u001b[0;31m# Gui.SendMsgToActiveView(\"ViewFit\")\u001b[0m\u001b[0;34m\u001b[0m\u001b[0;34m\u001b[0m\u001b[0;34m\u001b[0m\u001b[0m\n\u001b[1;32m     24\u001b[0m \u001b[0;31m### End command Part_Torus\u001b[0m\u001b[0;34m\u001b[0m\u001b[0;34m\u001b[0m\u001b[0;34m\u001b[0m\u001b[0m\n\u001b[0;32m---> 25\u001b[0;31m \u001b[0mGui\u001b[0m\u001b[0;34m.\u001b[0m\u001b[0mrunCommand\u001b[0m\u001b[0;34m(\u001b[0m\u001b[0;34m'Part_Tube'\u001b[0m\u001b[0;34m,\u001b[0m\u001b[0;36m0\u001b[0m\u001b[0;34m)\u001b[0m\u001b[0;34m\u001b[0m\u001b[0;34m\u001b[0m\u001b[0m\n\u001b[0m\u001b[1;32m     26\u001b[0m \u001b[0;31m# Macro End: /Users/myao9494/Library/Preferences/FreeCAD/Macro/test.FCMacro +++++++++++++++++++++++++++++++++++++++++++++++++\u001b[0m\u001b[0;34m\u001b[0m\u001b[0;34m\u001b[0m\u001b[0;34m\u001b[0m\u001b[0m\n",
      "\u001b[0;31mFreeCADError\u001b[0m: No such command 'Part_Tube'"
     ]
    }
   ],
   "source": [
    "# -*- coding: utf-8 -*-\n",
    "\n",
    "# Macro Begin: /Users/myao9494/Library/Preferences/FreeCAD/Macro/test.FCMacro +++++++++++++++++++++++++++++++++++++++++++++++++\n",
    "import FreeCAD\n",
    "import Part\n",
    "import CommandShapes\n",
    "\n",
    "# Gui.runCommand('Std_DlgMacroRecord',0)\n",
    "### Begin command Part_Cylinder\n",
    "App.ActiveDocument.addObject(\"Part::Cylinder\",\"Cylinder\")\n",
    "App.ActiveDocument.ActiveObject.Label = \"円柱\"\n",
    "App.ActiveDocument.recompute()\n",
    "# Gui.SendMsgToActiveView(\"ViewFit\")\n",
    "### End command Part_Cylinder\n",
    "### Begin command Part_Cone\n",
    "App.ActiveDocument.addObject(\"Part::Cone\",\"Cone\")\n",
    "App.ActiveDocument.ActiveObject.Label = \"円錐\"\n",
    "App.ActiveDocument.recompute()\n",
    "# Gui.SendMsgToActiveView(\"ViewFit\")\n",
    "### End command Part_Cone\n",
    "### Begin command Part_Torus\n",
    "App.ActiveDocument.addObject(\"Part::Torus\",\"Torus\")\n",
    "App.ActiveDocument.ActiveObject.Label = \"トーラス\"\n",
    "App.ActiveDocument.recompute()\n",
    "# Gui.SendMsgToActiveView(\"ViewFit\")\n",
    "### End command Part_Torus\n",
    "Gui.runCommand('Part_Tube',0)\n",
    "# Macro End: /Users/myao9494/Library/Preferences/FreeCAD/Macro/test.FCMacro +++++++++++++++++++++++++++++++++++++++++++++++++\n"
   ]
  },
  {
   "cell_type": "code",
   "execution_count": null,
   "id": "ba992c8d",
   "metadata": {},
   "outputs": [],
   "source": []
  },
  {
   "cell_type": "code",
   "execution_count": null,
   "id": "88e5a4f5",
   "metadata": {},
   "outputs": [],
   "source": []
  },
  {
   "cell_type": "code",
   "execution_count": 9,
   "id": "9731545a",
   "metadata": {},
   "outputs": [],
   "source": [
    "Gui.showMainWindow()"
   ]
  },
  {
   "cell_type": "code",
   "execution_count": 10,
   "id": "5c1a4922",
   "metadata": {},
   "outputs": [
    {
     "data": {
      "text/plain": [
       "True"
      ]
     },
     "execution_count": 10,
     "metadata": {},
     "output_type": "execute_result"
    }
   ],
   "source": [
    "Gui.activateWorkbench(\"PartWorkbench\")"
   ]
  },
  {
   "cell_type": "code",
   "execution_count": 11,
   "id": "fe110fe4",
   "metadata": {},
   "outputs": [
    {
     "data": {
      "text/plain": [
       "<Document object at 0x7fcb0a017600>"
      ]
     },
     "execution_count": 11,
     "metadata": {},
     "output_type": "execute_result"
    }
   ],
   "source": [
    "App.newDocument(\"Unnamed\")"
   ]
  },
  {
   "cell_type": "code",
   "execution_count": 12,
   "id": "1a09e2e9",
   "metadata": {},
   "outputs": [],
   "source": [
    "App.ActiveDocument.addObject(\"Part::Cylinder\",\"Cylinder\")\n",
    "App.ActiveDocument.ActiveObject.Label = \"円柱\"\n",
    "App.ActiveDocument.recompute()\n",
    "Gui.SendMsgToActiveView(\"ViewFit\")"
   ]
  },
  {
   "cell_type": "code",
   "execution_count": 13,
   "id": "da5c9acf",
   "metadata": {},
   "outputs": [],
   "source": [
    "Gui.SendMsgToActiveView(\"SaveAs\")\n",
    "App.getDocument(\"Unnamed\").saveAs(u\"/Users/myao9494/Desktop/bbb.FCStd\")"
   ]
  },
  {
   "cell_type": "code",
   "execution_count": 14,
   "id": "26d50062",
   "metadata": {},
   "outputs": [],
   "source": [
    "Gui.runCommand('Part_Tube',0)"
   ]
  },
  {
   "cell_type": "code",
   "execution_count": 13,
   "id": "7340d6c4",
   "metadata": {},
   "outputs": [],
   "source": [
    "Gui.SendMsgToActiveView(\"SaveAs\")"
   ]
  },
  {
   "cell_type": "code",
   "execution_count": 15,
   "id": "6b1ce2e9",
   "metadata": {},
   "outputs": [],
   "source": [
    "App.ActiveDocument.addObject(\"Part::Torus\",\"Torus\")\n",
    "App.ActiveDocument.ActiveObject.Label = \"トーラス\"\n",
    "App.ActiveDocument.recompute()\n",
    "Gui.SendMsgToActiveView(\"ViewFit\")"
   ]
  },
  {
   "cell_type": "code",
   "execution_count": 8,
   "id": "a58617f9",
   "metadata": {},
   "outputs": [],
   "source": []
  },
  {
   "cell_type": "code",
   "execution_count": 16,
   "id": "cd794021",
   "metadata": {},
   "outputs": [
    {
     "data": {
      "text/plain": [
       "<Document object at 0x7fcb0a030800>"
      ]
     },
     "execution_count": 16,
     "metadata": {},
     "output_type": "execute_result"
    }
   ],
   "source": [
    "App.newDocument(\"Unnamed\")"
   ]
  },
  {
   "cell_type": "code",
   "execution_count": null,
   "id": "24189442",
   "metadata": {},
   "outputs": [],
   "source": []
  },
  {
   "cell_type": "code",
   "execution_count": null,
   "id": "3775b429",
   "metadata": {},
   "outputs": [],
   "source": [
    "app.exec_()"
   ]
  },
  {
   "cell_type": "code",
   "execution_count": null,
   "id": "a123e59c",
   "metadata": {},
   "outputs": [],
   "source": []
  }
 ],
 "metadata": {
  "kernelspec": {
   "display_name": "Python 3 (ipykernel)",
   "language": "python",
   "name": "python3"
  },
  "language_info": {
   "codemirror_mode": {
    "name": "ipython",
    "version": 3
   },
   "file_extension": ".py",
   "mimetype": "text/x-python",
   "name": "python",
   "nbconvert_exporter": "python",
   "pygments_lexer": "ipython3",
   "version": "3.8.8"
  },
  "toc": {
   "base_numbering": 1,
   "nav_menu": {},
   "number_sections": true,
   "sideBar": true,
   "skip_h1_title": false,
   "title_cell": "Table of Contents",
   "title_sidebar": "Contents",
   "toc_cell": false,
   "toc_position": {},
   "toc_section_display": true,
   "toc_window_display": false
  }
 },
 "nbformat": 4,
 "nbformat_minor": 5
}
