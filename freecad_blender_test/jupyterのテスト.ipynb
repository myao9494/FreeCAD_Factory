{
 "cells": [
  {
   "cell_type": "code",
   "execution_count": 3,
   "id": "179200c0",
   "metadata": {},
   "outputs": [],
   "source": [
    "import sys"
   ]
  },
  {
   "cell_type": "code",
   "execution_count": 4,
   "id": "5d2b9b39",
   "metadata": {},
   "outputs": [],
   "source": [
    "sys.path.append(\"/Applications/FreeCAD.app/Contents/Resources/lib\")"
   ]
  },
  {
   "cell_type": "code",
   "execution_count": 5,
   "id": "removed-domain",
   "metadata": {},
   "outputs": [
    {
     "name": "stdout",
     "output_type": "stream",
     "text": [
      "Assembly4 workbench loaded \n"
     ]
    }
   ],
   "source": [
    "import freecad\n",
    "APP = freecad.app\n",
    "import Part\n"
   ]
  },
  {
   "cell_type": "code",
   "execution_count": 6,
   "id": "russian-signature",
   "metadata": {},
   "outputs": [],
   "source": [
    "\n",
    "freecad = APP.newDocument(\"model\")\n",
    "comp_1 = Part.Sphere()\n",
    "comp_1.Radius=10\n",
    "myPart = freecad.addObject(\"Part::Feature\",\"comp_1\")\n",
    "myPart.Shape= comp_1.toShape()\n",
    "myPart.Placement = App.Placement(App.Vector(100,0,0),App.Rotation(App.Vector(0,0,1),0))\n",
    "freecad.recompute()\n",
    "myPart.Shape.MatrixOfInertia\n",
    "freecad.saveAs(\"comp_1.FCStd\")\n",
    "# Part.export(],\"comp_1.iges\")"
   ]
  },
  {
   "cell_type": "code",
   "execution_count": 7,
   "id": "corporate-geometry",
   "metadata": {},
   "outputs": [],
   "source": [
    "taisho = freecad.Objects[0]"
   ]
  },
  {
   "cell_type": "code",
   "execution_count": 8,
   "id": "embedded-april",
   "metadata": {},
   "outputs": [
    {
     "data": {
      "text/plain": [
       "4188.790204786392"
      ]
     },
     "execution_count": 8,
     "metadata": {},
     "output_type": "execute_result"
    }
   ],
   "source": [
    "taisho.Shape.Volume"
   ]
  },
  {
   "cell_type": "code",
   "execution_count": 7,
   "id": "traditional-manhattan",
   "metadata": {},
   "outputs": [
    {
     "data": {
      "text/plain": [
       "1256.6370614359168"
      ]
     },
     "execution_count": 7,
     "metadata": {},
     "output_type": "execute_result"
    }
   ],
   "source": [
    "taisho.Shape.Mass"
   ]
  },
  {
   "cell_type": "code",
   "execution_count": 8,
   "id": "tamil-warner",
   "metadata": {},
   "outputs": [
    {
     "data": {
      "text/plain": [
       "Vector (100.0, -2.1160104551090215e-16, -3.552713678800502e-17)"
      ]
     },
     "execution_count": 8,
     "metadata": {},
     "output_type": "execute_result"
    }
   ],
   "source": [
    "taisho.Shape.CenterOfMass"
   ]
  },
  {
   "cell_type": "code",
   "execution_count": 9,
   "id": "photographic-oakland",
   "metadata": {},
   "outputs": [
    {
     "name": "stdout",
     "output_type": "stream",
     "text": [
      "comp_1.FCStd            loft_test.ipynb         test_loft.FCStd1\r\n",
      "comp_1.FCStd1           test_blender.ipynb\r\n",
      "freecad_step_mass.ipynb test_loft.FCStd\r\n"
     ]
    }
   ],
   "source": [
    "! ls"
   ]
  },
  {
   "cell_type": "code",
   "execution_count": 10,
   "id": "upset-superintendent",
   "metadata": {},
   "outputs": [
    {
     "ename": "OSError",
     "evalue": "{'sclassname': 'N4Base13FileExceptionE', 'sErrMsg': 'File to load not existing or not readable', 'sfile': '', 'iline': 0, 'sfunction': '', 'swhat': 'File to load not existing or not readable: test.step', 'btranslatable': False, 'breported': True, 'filename': 'test.step'}",
     "output_type": "error",
     "traceback": [
      "\u001b[0;31m---------------------------------------------------------------------------\u001b[0m",
      "\u001b[0;31mOSError\u001b[0m                                   Traceback (most recent call last)",
      "\u001b[0;32m/var/folders/xs/ryx995dd64q5y13vc9xlyybc0000gn/T/ipykernel_3809/375320534.py\u001b[0m in \u001b[0;36m<module>\u001b[0;34m\u001b[0m\n\u001b[1;32m      1\u001b[0m \u001b[0mfile_path\u001b[0m \u001b[0;34m=\u001b[0m \u001b[0;34m\"test.step\"\u001b[0m\u001b[0;34m\u001b[0m\u001b[0;34m\u001b[0m\u001b[0m\n\u001b[1;32m      2\u001b[0m \u001b[0mshape\u001b[0m\u001b[0;34m=\u001b[0m\u001b[0mPart\u001b[0m\u001b[0;34m.\u001b[0m\u001b[0mShape\u001b[0m\u001b[0;34m(\u001b[0m\u001b[0;34m)\u001b[0m\u001b[0;34m\u001b[0m\u001b[0;34m\u001b[0m\u001b[0m\n\u001b[0;32m----> 3\u001b[0;31m \u001b[0mshape\u001b[0m\u001b[0;34m.\u001b[0m\u001b[0mread\u001b[0m\u001b[0;34m(\u001b[0m\u001b[0mfile_path\u001b[0m\u001b[0;34m)\u001b[0m\u001b[0;34m\u001b[0m\u001b[0;34m\u001b[0m\u001b[0m\n\u001b[0m",
      "\u001b[0;31mOSError\u001b[0m: {'sclassname': 'N4Base13FileExceptionE', 'sErrMsg': 'File to load not existing or not readable', 'sfile': '', 'iline': 0, 'sfunction': '', 'swhat': 'File to load not existing or not readable: test.step', 'btranslatable': False, 'breported': True, 'filename': 'test.step'}"
     ]
    }
   ],
   "source": [
    "file_path = \"test.step\"\n",
    "shape=Part.Shape()\n",
    "shape.read(file_path)"
   ]
  },
  {
   "cell_type": "code",
   "execution_count": 11,
   "id": "charged-dancing",
   "metadata": {},
   "outputs": [
    {
     "ename": "RuntimeError",
     "evalue": "shape is invalid",
     "output_type": "error",
     "traceback": [
      "\u001b[0;31m---------------------------------------------------------------------------\u001b[0m",
      "\u001b[0;31mRuntimeError\u001b[0m                              Traceback (most recent call last)",
      "\u001b[0;32m/var/folders/xs/ryx995dd64q5y13vc9xlyybc0000gn/T/ipykernel_3809/724384501.py\u001b[0m in \u001b[0;36m<module>\u001b[0;34m\u001b[0m\n\u001b[0;32m----> 1\u001b[0;31m \u001b[0mshape\u001b[0m\u001b[0;34m.\u001b[0m\u001b[0mArea\u001b[0m\u001b[0;34m\u001b[0m\u001b[0;34m\u001b[0m\u001b[0m\n\u001b[0m",
      "\u001b[0;31mRuntimeError\u001b[0m: shape is invalid"
     ]
    }
   ],
   "source": [
    "shape.Area"
   ]
  },
  {
   "cell_type": "code",
   "execution_count": 12,
   "id": "established-hepatitis",
   "metadata": {},
   "outputs": [
    {
     "ename": "RuntimeError",
     "evalue": "shape is invalid",
     "output_type": "error",
     "traceback": [
      "\u001b[0;31m---------------------------------------------------------------------------\u001b[0m",
      "\u001b[0;31mRuntimeError\u001b[0m                              Traceback (most recent call last)",
      "\u001b[0;32m/var/folders/xs/ryx995dd64q5y13vc9xlyybc0000gn/T/ipykernel_3809/1569345618.py\u001b[0m in \u001b[0;36m<module>\u001b[0;34m\u001b[0m\n\u001b[0;32m----> 1\u001b[0;31m \u001b[0mshape\u001b[0m\u001b[0;34m.\u001b[0m\u001b[0mVolume\u001b[0m\u001b[0;34m\u001b[0m\u001b[0;34m\u001b[0m\u001b[0m\n\u001b[0m",
      "\u001b[0;31mRuntimeError\u001b[0m: shape is invalid"
     ]
    }
   ],
   "source": [
    "shape.Volume"
   ]
  },
  {
   "cell_type": "code",
   "execution_count": 16,
   "id": "split-introduction",
   "metadata": {},
   "outputs": [],
   "source": [
    "import FreeCADGui\n",
    "\n"
   ]
  },
  {
   "cell_type": "code",
   "execution_count": 17,
   "id": "765afa3f",
   "metadata": {},
   "outputs": [
    {
     "ename": "RuntimeError",
     "evalue": "Must construct a QApplication before a QPaintDevice\n",
     "output_type": "error",
     "traceback": [
      "\u001b[0;31m---------------------------------------------------------------------------\u001b[0m",
      "\u001b[0;31mRuntimeError\u001b[0m                              Traceback (most recent call last)",
      "\u001b[0;32m/var/folders/xs/ryx995dd64q5y13vc9xlyybc0000gn/T/ipykernel_3809/938004126.py\u001b[0m in \u001b[0;36m<module>\u001b[0;34m\u001b[0m\n\u001b[0;32m----> 1\u001b[0;31m \u001b[0mFreeCADGui\u001b[0m\u001b[0;34m.\u001b[0m\u001b[0mshowMainWindow\u001b[0m\u001b[0;34m(\u001b[0m\u001b[0;34m)\u001b[0m\u001b[0;34m\u001b[0m\u001b[0;34m\u001b[0m\u001b[0m\n\u001b[0m",
      "\u001b[0;31mRuntimeError\u001b[0m: Must construct a QApplication before a QPaintDevice\n"
     ]
    }
   ],
   "source": [
    "\n",
    "FreeCADGui.showMainWindow()"
   ]
  },
  {
   "cell_type": "code",
   "execution_count": 18,
   "id": "236752ac",
   "metadata": {},
   "outputs": [],
   "source": [
    "import sys, os\n",
    "\n",
    "os.environ[\"QT_API\"] = \"pyside\""
   ]
  },
  {
   "cell_type": "code",
   "execution_count": 19,
   "id": "a1918ad8",
   "metadata": {},
   "outputs": [
    {
     "name": "stderr",
     "output_type": "stream",
     "text": [
      "ERROR:tornado.application:Exception in callback functools.partial(<function Kernel.enter_eventloop.<locals>.advance_eventloop at 0x7fbed95c03a0>)\n",
      "Traceback (most recent call last):\n",
      "  File \"/Applications/FreeCAD.app/Contents/Resources/lib/python3.8/site-packages/tornado/ioloop.py\", line 741, in _run_callback\n",
      "    ret = callback()\n",
      "  File \"/Applications/FreeCAD.app/Contents/Resources/lib/python3.8/site-packages/ipykernel/kernelbase.py\", line 402, in advance_eventloop\n",
      "    eventloop(self)\n",
      "  File \"/Applications/FreeCAD.app/Contents/Resources/lib/python3.8/site-packages/ipykernel/eventloops.py\", line 126, in loop_qt5\n",
      "    return loop_qt4(kernel)\n",
      "  File \"/Applications/FreeCAD.app/Contents/Resources/lib/python3.8/site-packages/ipykernel/eventloops.py\", line 115, in loop_qt4\n",
      "    kernel.app = get_app_qt4([\" \"])\n",
      "  File \"/Applications/FreeCAD.app/Contents/Resources/lib/python3.8/site-packages/IPython/lib/guisupport.py\", line 114, in get_app_qt4\n",
      "    from IPython.external.qt_for_kernel import QtGui\n",
      "  File \"/Applications/FreeCAD.app/Contents/Resources/lib/python3.8/site-packages/IPython/external/qt_for_kernel.py\", line 128, in <module>\n",
      "    QtCore, QtGui, QtSvg, QT_API = load_qt(api_opts)\n",
      "  File \"/Applications/FreeCAD.app/Contents/Resources/lib/python3.8/site-packages/IPython/external/qt_loaders.py\", line 372, in load_qt\n",
      "    raise ImportError(\"\"\"\n",
      "ImportError: \n",
      "    Could not load requested Qt binding. Please ensure that\n",
      "    PyQt4 >= 4.7, PyQt5, PySide >= 1.0.3 or PySide2 is available,\n",
      "    and only one is imported per session.\n",
      "\n",
      "    Currently-imported Qt library:                              None\n",
      "    PyQt4 available (requires QtCore, QtGui, QtSvg):            False\n",
      "    PyQt5 available (requires QtCore, QtGui, QtSvg, QtWidgets): False\n",
      "    PySide >= 1.0.3 installed:                                  True\n",
      "    PySide2 installed:                                          True\n",
      "    Tried to load:                                              ['pyqt5']\n",
      "    \n"
     ]
    }
   ],
   "source": [
    "%gui qt5\n"
   ]
  },
  {
   "cell_type": "code",
   "execution_count": 20,
   "id": "746d4f8b",
   "metadata": {},
   "outputs": [],
   "source": [
    "import FreeCADGui\n",
    "from PySide import QtGui\n",
    "\n",
    "app = QtGui.QApplication(sys.argv)\n",
    "FreeCADGui.showMainWindow()\n"
   ]
  },
  {
   "cell_type": "code",
   "execution_count": null,
   "id": "853242fa",
   "metadata": {},
   "outputs": [
    {
     "ename": "NameError",
     "evalue": "name 'j' is not defined",
     "output_type": "error",
     "traceback": [
      "\u001b[0;31m---------------------------------------------------------------------------\u001b[0m",
      "\u001b[0;31mNameError\u001b[0m                                 Traceback (most recent call last)",
      "\u001b[0;32m<input>\u001b[0m in \u001b[0;36m<module>\u001b[0;34m\u001b[0m\n",
      "\u001b[0;31mNameError\u001b[0m: name 'j' is not defined"
     ]
    }
   ],
   "source": [
    "app.exec_()\n"
   ]
  },
  {
   "cell_type": "code",
   "execution_count": 6,
   "id": "66dfbf4f",
   "metadata": {},
   "outputs": [],
   "source": [
    "FreeCADGui.showMainWindow()"
   ]
  },
  {
   "cell_type": "code",
   "execution_count": null,
   "id": "4f6842cf",
   "metadata": {},
   "outputs": [],
   "source": []
  }
 ],
 "metadata": {
  "kernelspec": {
   "display_name": "Python 3 (ipykernel)",
   "language": "python",
   "name": "python3"
  },
  "language_info": {
   "codemirror_mode": {
    "name": "ipython",
    "version": 3
   },
   "file_extension": ".py",
   "mimetype": "text/x-python",
   "name": "python",
   "nbconvert_exporter": "python",
   "pygments_lexer": "ipython3",
   "version": "3.9.6"
  },
  "toc": {
   "base_numbering": 1,
   "nav_menu": {},
   "number_sections": true,
   "sideBar": true,
   "skip_h1_title": false,
   "title_cell": "Table of Contents",
   "title_sidebar": "Contents",
   "toc_cell": false,
   "toc_position": {},
   "toc_section_display": true,
   "toc_window_display": false
  }
 },
 "nbformat": 4,
 "nbformat_minor": 5
}
