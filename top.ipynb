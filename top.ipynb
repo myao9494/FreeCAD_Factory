{
 "cells": [
  {
   "cell_type": "markdown",
   "id": "3f4b0f6c",
   "metadata": {},
   "source": [
    "# 設定フォルダの場所"
   ]
  },
  {
   "cell_type": "markdown",
   "id": "f73c3dc9",
   "metadata": {},
   "source": [
    "mac"
   ]
  },
  {
   "cell_type": "code",
   "execution_count": 1,
   "id": "cfd45f15",
   "metadata": {},
   "outputs": [
    {
     "name": "stderr",
     "output_type": "stream",
     "text": [
      "'open' は、内部コマンドまたは外部コマンド、\n",
      "操作可能なプログラムまたはバッチ ファイルとして認識されていません。\n"
     ]
    }
   ],
   "source": [
    "! open /Users/myao9494/Library/Preferences/FreeCAD"
   ]
  },
  {
   "cell_type": "markdown",
   "id": "00ace71c",
   "metadata": {},
   "source": [
    "win"
   ]
  },
  {
   "cell_type": "code",
   "execution_count": 1,
   "id": "f94fe46b",
   "metadata": {},
   "outputs": [],
   "source": [
    "! explorer \"C:\\Users\\M151325\\AppData\\Roaming\\FreeCAD\""
   ]
  },
  {
   "cell_type": "code",
   "execution_count": 1,
   "id": "0f58b8b0",
   "metadata": {},
   "outputs": [],
   "source": [
    "! code \"C:\\Users\\M151325\\AppData\\Roaming\\FreeCAD\""
   ]
  },
  {
   "cell_type": "code",
   "execution_count": 2,
   "id": "bc73eaf3",
   "metadata": {},
   "outputs": [],
   "source": [
    "! code \"C:\\Users\\M151325\\miniconda3\\Library\\Mod\""
   ]
  },
  {
   "cell_type": "code",
   "execution_count": null,
   "id": "fb71d4a4",
   "metadata": {},
   "outputs": [],
   "source": []
  },
  {
   "cell_type": "code",
   "execution_count": null,
   "id": "9d7418bc",
   "metadata": {},
   "outputs": [],
   "source": []
  },
  {
   "cell_type": "markdown",
   "id": "7fca7fcc",
   "metadata": {},
   "source": [
    "# パッケージの導入\n",
    "anaconda に conda で入れれば、conda の pip で入れれば OK"
   ]
  },
  {
   "cell_type": "raw",
   "id": "6f5f0243",
   "metadata": {},
   "source": [
    "/Applications/FreeCAD.app/Contents/Resources/bin/python -m pip install パッケージ名"
   ]
  },
  {
   "cell_type": "markdown",
   "id": "132e3d3e",
   "metadata": {},
   "source": [
    "# vscodeでデバッグ\n",
    "\n",
    "いいんだけど、、、実行してリアルタイムで状況が見れないのは、、、めんどくさい。0.20dでjupyterでいけるようになることを祈ろう"
   ]
  },
  {
   "cell_type": "code",
   "execution_count": 3,
   "id": "357a2bce",
   "metadata": {},
   "outputs": [],
   "source": [
    "! code /Users/myao9494/Library/Preferences/FreeCAD/Macro/"
   ]
  },
  {
   "cell_type": "markdown",
   "id": "f26fc87c",
   "metadata": {},
   "source": [
    "## Freecad側にptvsdを入れる"
   ]
  },
  {
   "cell_type": "markdown",
   "id": "e1e3863a",
   "metadata": {},
   "source": [
    "```\n",
    "/Applications/FreeCAD.app/Contents/Resources/bin/python -m pip install ptvsd\n",
    "```"
   ]
  },
  {
   "cell_type": "markdown",
   "id": "78e5c961",
   "metadata": {},
   "source": [
    "## 必要なファイル\n",
    "下記になるように、ファイルはdebugフォルダにあり"
   ]
  },
  {
   "attachments": {
    "image.png": {
     "image/png": "[encoded data removed]"
    }
   },
   "cell_type": "markdown",
   "id": "b9832518",
   "metadata": {},
   "source": [
    "![image.png](attachment:image.png)"
   ]
  },
  {
   "cell_type": "markdown",
   "id": "3ea2fbf1",
   "metadata": {},
   "source": [
    "ファイルのコピー"
   ]
  },
  {
   "cell_type": "code",
   "execution_count": 30,
   "id": "920f13a7",
   "metadata": {},
   "outputs": [
    {
     "data": {
      "text/plain": [
       "['test.py', 'test.FCMacro', 'start_bolts.FCMacro', '.env', '.vscode']"
      ]
     },
     "execution_count": 30,
     "metadata": {},
     "output_type": "execute_result"
    }
   ],
   "source": [
    "macro_path = \"/Users/myao9494/Library/Preferences/FreeCAD/Macro/\"\n",
    "copy_file_list = os.listdir(macro_path)\n",
    "copy_file_list"
   ]
  },
  {
   "cell_type": "code",
   "execution_count": 9,
   "id": "e816f7c8",
   "metadata": {},
   "outputs": [],
   "source": [
    "import shutil"
   ]
  },
  {
   "cell_type": "code",
   "execution_count": 34,
   "id": "3e71a580",
   "metadata": {},
   "outputs": [
    {
     "data": {
      "text/plain": [
       "'debug/test.py'"
      ]
     },
     "execution_count": 34,
     "metadata": {},
     "output_type": "execute_result"
    }
   ],
   "source": [
    "shutil.copy(os.path.join(macro_path,copy_file_list[0]),os.path.join(\"debug\",copy_file_list[0]))"
   ]
  },
  {
   "cell_type": "code",
   "execution_count": 35,
   "id": "c11e8017",
   "metadata": {},
   "outputs": [
    {
     "data": {
      "text/plain": [
       "'debug/.env'"
      ]
     },
     "execution_count": 35,
     "metadata": {},
     "output_type": "execute_result"
    }
   ],
   "source": [
    "shutil.copy(os.path.join(macro_path,copy_file_list[3]),os.path.join(\"debug\",copy_file_list[3]))"
   ]
  },
  {
   "cell_type": "code",
   "execution_count": 36,
   "id": "a6bc98e6",
   "metadata": {},
   "outputs": [
    {
     "data": {
      "text/plain": [
       "'debug/.vscode'"
      ]
     },
     "execution_count": 36,
     "metadata": {},
     "output_type": "execute_result"
    }
   ],
   "source": [
    "shutil.copytree(os.path.join(macro_path,copy_file_list[4]),os.path.join(\"debug\",copy_file_list[4]))"
   ]
  },
  {
   "cell_type": "code",
   "execution_count": 24,
   "id": "b0847bc4",
   "metadata": {},
   "outputs": [],
   "source": [
    "! open ."
   ]
  },
  {
   "cell_type": "markdown",
   "id": "6b0a47ff",
   "metadata": {},
   "source": [
    "## デバッグの方法"
   ]
  },
  {
   "cell_type": "markdown",
   "id": "19788a2e",
   "metadata": {},
   "source": [
    "- FREECADでマクロの実行で、マクロを実行 → 止まる\n",
    "- VScodeで同じマクロファイルをデバッグ → 赤玉を設定しておくと、そこで止まる → いろいろと構造が見れるです"
   ]
  },
  {
   "cell_type": "markdown",
   "id": "72a409ba",
   "metadata": {},
   "source": [
    "# jupyterで出来ないか!!!\n",
    "結果としては、まだ駄目だったのだけれど、"
   ]
  }
 ],
 "metadata": {
  "kernelspec": {
   "display_name": "Python 3 (ipykernel)",
   "language": "python",
   "name": "python3"
  },
  "language_info": {
   "codemirror_mode": {
    "name": "ipython",
    "version": 3
   },
   "file_extension": ".py",
   "mimetype": "text/x-python",
   "name": "python",
   "nbconvert_exporter": "python",
   "pygments_lexer": "ipython3",
   "version": "3.9.5"
  },
  "toc": {
   "base_numbering": 1,
   "nav_menu": {},
   "number_sections": true,
   "sideBar": true,
   "skip_h1_title": false,
   "title_cell": "Table of Contents",
   "title_sidebar": "Contents",
   "toc_cell": false,
   "toc_position": {
    "height": "calc(100% - 180px)",
    "left": "10px",
    "top": "150px",
    "width": "234.492px"
   },
   "toc_section_display": true,
   "toc_window_display": true
  }
 },
 "nbformat": 4,
 "nbformat_minor": 5
}
